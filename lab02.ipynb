{
 "cells": [
  {
   "cell_type": "markdown",
   "source": "# Lab 2\n## David Herel\nThis is my notebook for lab2 - communication security class.👋 ",
   "metadata": {
    "tags": [],
    "cell_id": "00000-e7783807-daf9-4ae4-9f26-82a5544ff2c4",
    "deepnote_cell_type": "markdown"
   }
  },
  {
   "cell_type": "markdown",
   "source": "## Exercise 1: why we do all of this\n\n> This is the easiest exercise, but also the most important one.\n\n> Write in your report the following sentence:\n\n>       I, <your name here>, understand that cryptography is easy to mess up, and\n>       that I will not carelessly combine pieces of cryptographic ciphers to\n>       encrypt my users' data. I will not write crypto code myself, but defer to\n>       high-level libaries written by experts who took the right decisions for me,\n>       like NaCL.\n\n> That's it. You will indeed get points for writing this sentence in your report.\n\n> Some similar resources if the idea is not clear enough:\n\n>    - [Foot-shooting prevention agreement](http://www.moserware.com/assets/stick-figure-guide-to-advanced/aes_act_3_scene_02_agreement_1100. png) from [A Stick Figure Guide to the AES](http://www.moserware.com/2009/09/stick-figure-guide-to-advanced.html)\n>  - [Why is writing your own encryption discouraged?](https://crypto.stackexchange.com/questions/43272/why-is-writing-your-own-encryption-discouraged)\n> - [One does not simply write their own cipher](https://security.stackexchange.com/questions/25585/is-my-developers-home-brew-password-security-right-or-wrong-and-why/25637#25637)\n>  - [Don't roll your own crypto.](https://security.stackexchange.com/questions/2202/lessons-learned-and-misconceptions-regarding-encryption-and-cryptology/2210#2210)\n\n> Here is a list of recommendations that you can read later if you want.\n\n>  - [Cryptographic right answers, 2018](https://latacora.micro.blog/2018/04/03/cryptographic-right-answers.html)\n>    Note how it just more or less says \"do not code crypto yourself\".\n>  - [NaCL](https://en.wikipedia.org/wiki/NaCl_(software)) and\n>  [libsodium](https://libsodium.gitbook.io/doc) what you should use if you use\n>   crypto in production\n\n> Finally, remember to stay up to date, crypto that was good yesterday can be\n> broken today.\n\n> ---\n \n> That's it for the \"soft\" stuff. For the rest of the lab we will code that does\n> _not_ follow these rules, precisely so you can break it and see what happens\n> when one makes careless crypto decisions.\n\n",
   "metadata": {
    "tags": [],
    "cell_id": "00001-f9613511-1601-4b2b-9f36-f895b8ef712b",
    "deepnote_cell_type": "markdown"
   }
  },
  {
   "cell_type": "markdown",
   "source": "    I, David Herel, understand that cryptography is easy to mess up, and\n    that I will not carelessly combine pieces of cryptographic ciphers to\n    encrypt my users' data. I will not write crypto code myself, but defer to\n    high-level libaries written by experts who took the right decisions for me,\n    like NaCL.",
   "metadata": {
    "tags": [],
    "cell_id": "00002-f7c5b960-c4b6-4c94-88d3-b8703419ed80",
    "deepnote_cell_type": "markdown"
   }
  },
  {
   "cell_type": "markdown",
   "source": "\n## Exercise 2: encrypt single-block AES\n\n> Write a function `encrypt_aes_block(x, key)` that takes an input `x` with a size\n> of _exactly_ 16 bytes, and a `key` also 16 bytes long, and returns the result of\n> encrypting this block with AES.\n\n> _It should encrypt only one block_; make it fail\n> (exception, assert...) if the input is not 16 byte long.\n\n> Do not write the AES algo yourself (it is somewhat complex and not in the scope\n> of this lab). Just defer to a library implementation that will encrypt the block\n>for you. Maybe your library will force you to choose a block mode, in this case\n>choose ECB and make sure you get only one block of output.\n\n>What is the ciphertext of encrypting the plaintext `90 miles an hour` with the\n>key `CROSSTOWNTRAFFIC`? Answer in hex.\n",
   "metadata": {
    "tags": [],
    "cell_id": "00003-16ee5cc3-0b63-4d55-b61c-6c0d781bd374",
    "deepnote_cell_type": "markdown"
   }
  },
  {
   "cell_type": "code",
   "metadata": {
    "tags": [],
    "cell_id": "00004-fb84dedc-64ce-47b3-b06e-337a2e64052a",
    "deepnote_to_be_reexecuted": false,
    "source_hash": "5a914cd2",
    "execution_start": 1637687731652,
    "execution_millis": 4402,
    "deepnote_cell_type": "code"
   },
   "source": "!pip install Crypto==1.4.1",
   "outputs": [
    {
     "name": "stdout",
     "text": "Requirement already satisfied: Crypto==1.4.1 in /root/venv/lib/python3.7/site-packages (1.4.1)\nRequirement already satisfied: shellescape in /root/venv/lib/python3.7/site-packages (from Crypto==1.4.1) (3.8.1)\nRequirement already satisfied: Naked in /root/venv/lib/python3.7/site-packages (from Crypto==1.4.1) (0.1.31)\nRequirement already satisfied: pyyaml in /shared-libs/python3.7/py/lib/python3.7/site-packages (from Naked->Crypto==1.4.1) (6.0)\nRequirement already satisfied: requests in /shared-libs/python3.7/py/lib/python3.7/site-packages (from Naked->Crypto==1.4.1) (2.26.0)\nRequirement already satisfied: urllib3<1.27,>=1.21.1 in /shared-libs/python3.7/py/lib/python3.7/site-packages (from requests->Naked->Crypto==1.4.1) (1.26.7)\nRequirement already satisfied: charset-normalizer~=2.0.0; python_version >= \"3\" in /shared-libs/python3.7/py-core/lib/python3.7/site-packages (from requests->Naked->Crypto==1.4.1) (2.0.7)\nRequirement already satisfied: certifi>=2017.4.17 in /shared-libs/python3.7/py/lib/python3.7/site-packages (from requests->Naked->Crypto==1.4.1) (2021.10.8)\nRequirement already satisfied: idna<4,>=2.5; python_version >= \"3\" in /shared-libs/python3.7/py-core/lib/python3.7/site-packages (from requests->Naked->Crypto==1.4.1) (3.3)\n\u001b[33mWARNING: You are using pip version 20.1.1; however, version 21.3.1 is available.\nYou should consider upgrading via the '/root/venv/bin/python -m pip install --upgrade pip' command.\u001b[0m\n",
     "output_type": "stream"
    }
   ],
   "execution_count": null
  },
  {
   "cell_type": "code",
   "metadata": {
    "tags": [],
    "cell_id": "00004-d5d07110-9ea4-46dc-89f4-821aba517b3e",
    "deepnote_to_be_reexecuted": false,
    "source_hash": "96d200df",
    "execution_start": 1637687736067,
    "execution_millis": 8,
    "deepnote_cell_type": "code"
   },
   "source": "from Crypto.Cipher import AES\n\n#encrypt single aes block - x and key has to be exactly 16 bytes long - otherwise error is popped\ndef encrypt_aes_block(x, key):\n    if (len(x.encode(\"utf8\"))) != 16:\n        raise Exception('Message has to be exactly 16 bytes long.')\n    if (len(key.encode(\"utf8\"))) != 16:\n        raise Exception('Key has to be exactly 16 bytes long')\n    cipher = AES.new(key, AES.MODE_ECB)\n    message = cipher.encrypt(x)\n    return message\n\n\nanswer = encrypt_aes_block(\"90 miles an hour\", \"CROSSTOWNTRAFFIC\")\nprint(answer.hex())\n    ",
   "outputs": [
    {
     "name": "stdout",
     "text": "092fb4b0aa77beddb5e55df37b73faaa\n",
     "output_type": "stream"
    }
   ],
   "execution_count": null
  },
  {
   "cell_type": "markdown",
   "source": "The answer in hex is: `092fb4b0aa77beddb5e55df37b73faaa`.",
   "metadata": {
    "tags": [],
    "cell_id": "00006-fc0efed9-0adc-4e78-9c95-c750c20de1dc",
    "deepnote_cell_type": "markdown"
   }
  },
  {
   "cell_type": "markdown",
   "source": "## Exercise 3: decrypt single-block AES\n\n> Write a function `decrypt_aes_block(y, key)` that takes an encrypted\n> block `y` (exactly 16 bytes) and decrypts it with a 16 byte `key`. As above, this should only\n> operate on 16 byte blocks, and should defer to a library implementation.\n\n> What is the decryption of the 16 byte block `fad2b9a02d4f9c850f3828751e8d1565`\n> with the key `VALLEYSOFNEPTUNE`?",
   "metadata": {
    "tags": [],
    "cell_id": "00007-b4f1f870-0415-4efe-972e-4aae47653e04",
    "deepnote_cell_type": "markdown"
   }
  },
  {
   "cell_type": "code",
   "metadata": {
    "tags": [],
    "cell_id": "00008-f16f3c4f-e0b0-4995-94fc-605f5fe48666",
    "deepnote_to_be_reexecuted": false,
    "source_hash": "d3da97b3",
    "execution_start": 1637687736085,
    "execution_millis": 2,
    "deepnote_cell_type": "code"
   },
   "source": "import binascii\n\n#decrypt single aes block - x and key has to be exactly 16 bytes long - otherwise error is popped\ndef decrypt_aes_block(y, key):\n    if (len(y)) != 16:\n        raise Exception('Message has to be exactly 16 bytes long.')\n    if (len(key.encode(\"utf8\"))) != 16:\n        raise Exception('Key has to be exactly 16 bytes long')\n    cipher = AES.new(key, AES.MODE_ECB)\n    message = cipher.decrypt(y)\n    return message\n\n\ndef hex2bin(my_input):\n    return binascii.unhexlify(my_input)\n\nanswer = decrypt_aes_block(hex2bin(\"fad2b9a02d4f9c850f3828751e8d1565\"), \"VALLEYSOFNEPTUNE\")\nprint(answer)",
   "outputs": [
    {
     "name": "stdout",
     "text": "b'I feel the ocean'\n",
     "output_type": "stream"
    }
   ],
   "execution_count": null
  },
  {
   "cell_type": "markdown",
   "source": "We got the answer: `I feel the ocean`",
   "metadata": {
    "tags": [],
    "cell_id": "00009-e8d086bf-ef6e-47e1-a47e-45ba6b759134",
    "deepnote_cell_type": "markdown"
   }
  },
  {
   "cell_type": "markdown",
   "source": "## Exercise 4: implement PKCS&#35;7 padding\n\n> Write a function `pad(x)` that takes input data with arbitrary size and returns\n> the same data (or a copy of it) with some bytes appended to it, in this manner:\n\n>  - if the length (in bytes) is a multiple of 16 minus 1, append a single byte\n>    of value 1 (hex `01`).\n>  - if the length is a multiple of 16 minus 2, append two bytes of value 2\n>    (hex `0202`).\n>  - if the length is a multiple of 16 minus 3, append three bytes of value 3\n>    (hex `030303`).\n>  - ...\n>  - if the length is a multiple of 16 minus 15, append fifteen bytes of\n>    value 15 (hex `0f0f0f0f0f0f0f0f0f0f0f0f0f0f0f`).\n>  - if the length is exactly a multiple of 16, append sixteen bytes of value\n>    16 (hex `10101010101010101010101010101010`).\n\n>Your output should have, therefore, a length always a multiple of 16 bytes.\n\n>What is the output of `pad(\"hello\")`?",
   "metadata": {
    "tags": [],
    "cell_id": "00010-b5cc1313-8610-48cc-8a38-7b34bb8639f7",
    "deepnote_cell_type": "markdown"
   }
  },
  {
   "cell_type": "code",
   "metadata": {
    "tags": [],
    "cell_id": "00011-18965b2c-12df-493e-ac4c-387070fa47df",
    "deepnote_to_be_reexecuted": false,
    "source_hash": "1b302adc",
    "execution_start": 1637687736099,
    "execution_millis": 6,
    "deepnote_cell_type": "code"
   },
   "source": "def pad(x):\n    left_overs = len(x.encode(\"utf8\")) % 16\n    byte_to_copy = 16 - left_overs\n    text_append = byte_to_copy.to_bytes(1, 'big')\n    text = x.encode() + (text_append * byte_to_copy)\n    return text\n\nanswer = pad(\"hello\")\nprint(answer)",
   "outputs": [
    {
     "name": "stdout",
     "text": "b'hello\\x0b\\x0b\\x0b\\x0b\\x0b\\x0b\\x0b\\x0b\\x0b\\x0b\\x0b'\n",
     "output_type": "stream"
    }
   ],
   "execution_count": null
  },
  {
   "cell_type": "markdown",
   "source": "Output of `pad(\"hello\")` is `b'hello\\x0b\\x0b\\x0b\\x0b\\x0b\\x0b\\x0b\\x0b\\x0b\\x0b\\x0b'`.",
   "metadata": {
    "tags": [],
    "cell_id": "00012-3b97cbaf-353a-403c-85c4-d2440170b4a2",
    "deepnote_cell_type": "markdown"
   }
  },
  {
   "cell_type": "markdown",
   "source": "## Exercise 5: implement PKCS#7 unpadding\n\n> Write a function `unpad(y)` that takes an input data `y` padded with\n> the scheme above, and returns the same data without the padding.\n\n> What is the output of `unpad(\"hello\\x0b\\x0b\\x0b\\x0b\\x0b\\x0b\\x0b\\x0b\\x0b\\x0b\\x0b\")`?",
   "metadata": {
    "tags": [],
    "cell_id": "00012-66345edb-f1ee-43e6-bef6-c294c40cb714",
    "deepnote_cell_type": "markdown"
   }
  },
  {
   "cell_type": "code",
   "metadata": {
    "tags": [],
    "cell_id": "00013-892de9a5-4e12-46b3-951e-908baed385e5",
    "deepnote_to_be_reexecuted": false,
    "source_hash": "593f3c70",
    "execution_start": 1637687736138,
    "execution_millis": 2,
    "deepnote_cell_type": "code"
   },
   "source": "def unpad(y):\n    left_overs = int.from_bytes(y[len(y)-1].encode(), 'big')\n    if left_overs >= 17:\n        return y\n    return y[0:len(y)-left_overs]\n\nprint(unpad(\"hello\\x0b\\x0b\\x0b\\x0b\\x0b\\x0b\\x0b\\x0b\\x0b\\x0b\\x0b\"))",
   "outputs": [
    {
     "name": "stdout",
     "text": "hello\n",
     "output_type": "stream"
    }
   ],
   "execution_count": null
  },
  {
   "cell_type": "markdown",
   "source": "We have got correct output: `hello`.",
   "metadata": {
    "tags": [],
    "cell_id": "00015-087941cd-59d2-4cd3-bd02-a4253d06b90a",
    "deepnote_cell_type": "markdown"
   }
  },
  {
   "cell_type": "markdown",
   "source": "## Exercise 6: implement ECB encryption\n\n> Write a function `encrypt_aes_ecb(x, key)` that:\n\n>  - takes an arbitrary sized input `x`,\n>  - pads it so the length is a multiple of 16 byte,\n>  - cuts it to consecutive blocks of 16 bytes,\n>  - encrypts every block independently with `encrypt_aes_block()` from Ex. 2\n>  - concatenates the result\n\n> Implement ECB mode yourself by following the steps above; you are not allowed to\n> defer this task to your AES library of choice (but the library can still encrypt\n> individual blocks through `encrypt_aes_ecb()`, of course).\n\n> What is the encryption of the following plaintext? Use the key `vdchldslghtrturn`. Answer in hex.\n\n>     Well, I stand up next to a mountain and I chop it down with the edge of my hand\n",
   "metadata": {
    "tags": [],
    "cell_id": "00016-2b22b078-9331-425c-b0ca-d12b75972b50",
    "deepnote_cell_type": "markdown"
   }
  },
  {
   "cell_type": "code",
   "metadata": {
    "tags": [],
    "cell_id": "00017-c40392d5-f4e4-42e1-a10d-9ceb61b908c0",
    "deepnote_to_be_reexecuted": false,
    "source_hash": "af791491",
    "execution_start": 1637687736138,
    "execution_millis": 4,
    "deepnote_cell_type": "code"
   },
   "source": "def encrypt_aes_ecb(x, key):\n    padded = pad(x)\n    for i in range(0,len(padded),16):\n        temp = encrypt_aes_block(padded[i:i+16].decode(\"utf8\"), key)\n        padded = padded[:i]+temp+padded[i+16:]\n    return padded\n\nanswer = encrypt_aes_ecb(\"Well, I stand up next to a mountain and I chop it down with the edge of my hand\", \"vdchldslghtrturn\")\nprint(answer.hex())",
   "outputs": [
    {
     "name": "stdout",
     "text": "883319258b745592ef20db9dda39b076a84f4955a48ba9caecd1583641cf3acac86acd5e5795de7895fab54481e9d8c3afc179c39412282eb8445ea2450e763df7282998a74baf19887c843b658f8891\n",
     "output_type": "stream"
    }
   ],
   "execution_count": null
  },
  {
   "cell_type": "markdown",
   "source": "The answer is: `883319258b745592ef20db9dda39b076a84f4955a48ba9caecd1583641cf3acac86acd5e5795de7895fab54481e9d8c3afc179c39412282eb8445ea2450e763df7282998a74baf19887c843b658f8891`.",
   "metadata": {
    "tags": [],
    "cell_id": "00018-fcc1c6db-a138-4a1d-bc84-f67f999a307f",
    "deepnote_cell_type": "markdown"
   }
  },
  {
   "cell_type": "markdown",
   "source": "## Exercise 7: implement ECB decryption\n\n>Write a function `decrypt_aes_ecb(y, key)` that decrypts ECB by reversing the\n>steps of the previous exercise: slice in 16 byte blocks, decrypt blocks\n>independently, concatenate, unpad. Again, do not defer to your AES library for\n>these steps, except for individual block decryption through\n>`decrypt_aes_block()`.\n\n>What is the decryption of the following ECB encoded ciphertext? Use the key `If the mountains`.\n\n>     792c2e2ec4e18e9d3a82f6724cf53848\n>     abb28d529a85790923c94b5c5abc34f5\n>     0929a03550e678949542035cd669d4c6\n>     6da25e59a5519689b3b4e11a870e7cea",
   "metadata": {
    "tags": [],
    "cell_id": "00019-c08c3003-cbf9-419b-b36f-f17dfe9e19c5",
    "deepnote_cell_type": "markdown"
   }
  },
  {
   "cell_type": "code",
   "metadata": {
    "tags": [],
    "cell_id": "00020-8fe46f74-af42-487a-b1b9-213e16137a68",
    "deepnote_to_be_reexecuted": false,
    "source_hash": "ea076828",
    "execution_start": 1637687736139,
    "execution_millis": 3,
    "deepnote_cell_type": "code"
   },
   "source": "def decrypt_aes_ecb(y, key):\n    for i in range(0,len(y),16):\n        temp = decrypt_aes_block(y[i:i+16], key)      \n        y = y[:i]+temp+y[i+16:]\n    return unpad(y.decode(\"utf8\"))\n\nanswer = decrypt_aes_ecb(hex2bin(\"792c2e2ec4e18e9d3a82f6724cf53848abb28d529a85790923c94b5c5abc34f50929a03550e678949542035cd669d4c66da25e59a5519689b3b4e11a870e7cea\"), \"If the mountains\")\nprint(answer)",
   "outputs": [
    {
     "name": "stdout",
     "text": "If the mountains fell in the sea / Let it be, it ain't me\n",
     "output_type": "stream"
    }
   ],
   "execution_count": null
  },
  {
   "cell_type": "markdown",
   "source": "The answer is: `If the mountains fell in the sea / Let it be, it ain't me`.",
   "metadata": {
    "tags": [],
    "cell_id": "00021-ba3cdef5-3b57-48bb-8a32-c147dccc059b",
    "deepnote_cell_type": "markdown"
   }
  },
  {
   "cell_type": "markdown",
   "source": "## Exercise 8: ECB ciphertext manipulation (cut and paste 1)\n\n>The file `text1.hex` contains lyrics of a song, where each line is exactly 32\n>bytes long (31 letters + a newline character). In other words, the first line is\n>in blocks 0-1; the second line is in block 2-3, etc.\n\n>However, there is a small mistake! The first line and the third line have been\n>unfortunately swapped, so the song is not correct anymore.\n\n>1. Have a quick look at the hex file. Can you quickly spot some obvious\n>   patterns? What fact can you deduce about the song lyrics?\n\n>2. At the end of the file, you can see a 16 byte block \"alone\"; however, all\n>   lines of the song lyrics are really 32 bytes long. Can you explain the\n>   presence of this last 16 byte block? Can you guess the plaintext of this\n>   block?\n\n>3. Restore the correct order in the ciphertext. In other words, swap the first\n>   line and the third line. You must do this operation by manipulating the\n>   ciphertext only, without decrypting. (The point is to show you that you can\n>   manipulate encrypted text without knowing the key!)\n\n>4. Then, decrypt the text with key `TLKNGBTMYGNRTION`. The first line should\n>   start with \"People\" -- what is the rest of this line?",
   "metadata": {
    "tags": [],
    "cell_id": "00022-fc0ca3f8-1ede-43c3-92b9-0e80d66d194a",
    "deepnote_cell_type": "markdown"
   }
  },
  {
   "cell_type": "code",
   "metadata": {
    "tags": [],
    "cell_id": "00023-16a9dc26-101b-47bb-bb13-83a3bb74b0b3",
    "deepnote_to_be_reexecuted": false,
    "source_hash": "e708d1b0",
    "execution_start": 1637687736147,
    "execution_millis": 7,
    "deepnote_cell_type": "code"
   },
   "source": "text1 = \"f55dd7f3f8a6ab401f534e3bd14e17e5a9e6a812719593e07cd2ae73c9233ce43130c68457ca3d0783e5a5beec8965b1ce2b204963fd41209775362f9db531ef5dd0fb1c4956cf54cd2d3189072347e63bc53a7b56501a157f44894c27bfc0f93130c68457ca3d0783e5a5beec8965b1ce2b204963fd41209775362f9db531ef79001765e66a2d8564f676ae4f3fe0b81ebdddea88f2a8ae3ceb8993781816503130c68457ca3d0783e5a5beec8965b1ce2b204963fd41209775362f9db531ef1e7deb7da2086f0a9eff7eab6138f6242e7c4641a490912c0c26510454ee2a693130c68457ca3d0783e5a5beec8965b1ce2b204963fd41209775362f9db531ef57fc10777bb9d1adc7b63fb5d483521f0a5f54b2886d308f7ffd76cd41c3e1a9060e0e99b7bc2678594c65714361e33dcb7af3667b23cebbe6ffaa2ae13d4f442be86dd9d1a590e0b5b445f161b7b7aea5a770c3767c6233ea2dd4f380f8d6013130c68457ca3d0783e5a5beec8965b1ce2b204963fd41209775362f9db531efa8a6e8fd73a35abbd8558e2e75472f9d3a29cbb1834f3290bb9a014d3342d9f63130c68457ca3d0783e5a5beec8965b1ce2b204963fd41209775362f9db531ef476f3808de56bdbfcea382fde05e1e0dfeff7b140494b0fba7b002c478f00433c90dbfa04bdc91a6c5c1cf7b628a67be0a5f54b2886d308f7ffd76cd41c3e1a93130c68457ca3d0783e5a5beec8965b1ce2b204963fd41209775362f9db531ef4782f3bb9dbb6acdb547cc8b649d26f2e86871c45dd34b1875dfc82ca2e0604067b6d6561f1cafd6d907a0d44ea2f69b0a5f54b2886d308f7ffd76cd41c3e1a93130c68457ca3d0783e5a5beec8965b1ce2b204963fd41209775362f9db531ef57fc10777bb9d1adc7b63fb5d483521f0a5f54b2886d308f7ffd76cd41c3e1a9060e0e99b7bc2678594c65714361e33dcb7af3667b23cebbe6ffaa2ae13d4f442be86dd9d1a590e0b5b445f161b7b7aea5a770c3767c6233ea2dd4f380f8d6013130c68457ca3d0783e5a5beec8965b1ce2b204963fd41209775362f9db531ef4fee4885e4890c6818862fea7b1cfd82768a950a726dec48811816df3234e22d37166564b24813334eb51e3975d558a50a5f54b2886d308f7ffd76cd41c3e1a93130c68457ca3d0783e5a5beec8965b1ce2b204963fd41209775362f9db531ef476f3808de56bdbfcea382fde05e1e0d49ae61f725b62040d098e366fa666e91c90dbfa04bdc91a6c5c1cf7b628a67be0a5f54b2886d308f7ffd76cd41c3e1a93130c68457ca3d0783e5a5beec8965b1ce2b204963fd41209775362f9db531ef4782f3bb9dbb6acdb547cc8b649d26f2e86871c45dd34b1875dfc82ca2e0604067b6d6561f1cafd6d907a0d44ea2f69b0a5f54b2886d308f7ffd76cd41c3e1a93130c68457ca3d0783e5a5beec8965b1ce2b204963fd41209775362f9db531ef57fc10777bb9d1adc7b63fb5d483521f0a5f54b2886d308f7ffd76cd41c3e1a9060e0e99b7bc2678594c65714361e33dcb7af3667b23cebbe6ffaa2ae13d4f440c394fd1e39783532810f5f648f0a8f31e98f0095c49d521193485ac0ac9739c0c394fd1e39783532810f5f648f0a8f31e98f0095c49d521193485ac0ac9739c5dd0fb1c4956cf54cd2d3189072347e63bc53a7b56501a157f44894c27bfc0f93130c68457ca3d0783e5a5beec8965b1ce2b204963fd41209775362f9db531eff55dd7f3f8a6ab401f534e3bd14e17e50b1385621516503940a06e09665946b03130c68457ca3d0783e5a5beec8965b1ce2b204963fd41209775362f9db531ef79001765e66a2d8564f676ae4f3fe0b81ebdddea88f2a8ae3ceb8993781816503130c68457ca3d0783e5a5beec8965b1ce2b204963fd41209775362f9db531ef1e7deb7da2086f0a9eff7eab6138f6242e7c4641a490912c0c26510454ee2a693130c68457ca3d0783e5a5beec8965b1ce2b204963fd41209775362f9db531ef57fc10777bb9d1adc7b63fb5d483521f0a5f54b2886d308f7ffd76cd41c3e1a9060e0e99b7bc2678594c65714361e33dcb7af3667b23cebbe6ffaa2ae13d4f440c394fd1e39783532810f5f648f0a8f31e98f0095c49d521193485ac0ac9739c0c394fd1e39783532810f5f648f0a8f31e98f0095c49d521193485ac0ac9739c5dc56751f3546fb2e7498a1a03a4994d4a6c573d6f15e5e7f904faf8e1403c768fecbc5ef5681fa973925a4de95ef4e30a5f54b2886d308f7ffd76cd41c3e1a95dc56751f3546fb2e7498a1a03a4994d4a6c573d6f15e5e7f904faf8e1403c768fecbc5ef5681fa973925a4de95ef4e30a5f54b2886d308f7ffd76cd41c3e1a95dc56751f3546fb2e7498a1a03a4994d4a6c573d6f15e5e7f904faf8e1403c767864d0944aeebf971853d6f3f697e1e28d8d31700b760c8b70e460085c60ffc85dc56751f3546fb2e7498a1a03a4994d4a6c573d6f15e5e7f904faf8e1403c7636e7e7d0e14ac37b6c306d853e29b28d2ee863909ec0da55a9e6e2b8cf4d4ed35dc56751f3546fb2e7498a1a03a4994d4a6c573d6f15e5e7f904faf8e1403c7636e7e7d0e14ac37b6c306d853e29b28d2ee863909ec0da55a9e6e2b8cf4d4ed35dc56751f3546fb2e7498a1a03a4994d4a6c573d6f15e5e7f904faf8e1403c7636e7e7d0e14ac37b6c306d853e29b28d2ee863909ec0da55a9e6e2b8cf4d4ed35dc56751f3546fb2e7498a1a03a4994d4a6c573d6f15e5e7f904faf8e1403c7636e7e7d0e14ac37b6c306d853e29b28d2ee863909ec0da55a9e6e2b8cf4d4ed35dc56751f3546fb2e7498a1a03a4994d4a6c573d6f15e5e7f904faf8e1403c7636e7e7d0e14ac37b6c306d853e29b28d2ee863909ec0da55a9e6e2b8cf4d4ed3424b034587e46f76e52bad09705406cb\"\n#swapped first and third line\ntext1 = \"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\"\n\nanswer = decrypt_aes_ecb(hex2bin(text1),\"TLKNGBTMYGNRTION\")\nprint(answer)",
   "outputs": [
    {
     "name": "stdout",
     "text": "People try to put us d-down    \n(Talkin' 'bout my generation)  \nJust because we get around     \n(Talkin' 'bout my generation)  \nThings they do look awful cold \n(Talkin' 'bout my generation)  \nI hope I die before I get old  \n(Talkin' 'bout my generation)  \nMy generation                  \nThis is my generation, baby    \nWhy don't you all f-fade away  \n(Talkin' 'bout my generation)  \nDon't try to dig what w'all say\n(Talkin' 'bout my generation)  \nI'm not trying to cause a big  \ns-s-sensation                  \n(Talkin' 'bout my generation)  \nI'm just talkin' 'bout my      \ng-g-generation                 \n(Talkin' 'bout my generation)  \nMy generation                  \nThis is my generation, baby    \nWhy don't you all f-fade away  \n(Talkin' 'bout my generation)  \nAnd don't try to d-dig what we \nall s-s-say                    \n(Talkin' 'bout my generation)  \nI'm not trying to cause a b-big\ns-s-sensation                  \n(Talkin' 'bout my generation)  \nI'm just talkin' 'bout my      \ng-g-generation                 \n(Talkin' 'bout my generation)  \nMy generation                  \nThis is my generation, baby    \nMy, my, my, my generation      \nMy, my, my, my generation      \nPeople try to put us d-down    \n(Talkin' 'bout my generation)  \nJust because we g-g-get around \n(Talkin' 'bout my generation)  \nThings they do look awful cold \n(Talkin' 'bout my generation)  \nI hope I die before I get old  \n(Talkin' 'bout my generation)  \nMy generation                  \nThis is my generation, baby    \nMy, my, my, my generation      \nMy, my, my, my generation      \nTalkin' 'bout my generation    \n(My generation)                \nTalkin' 'bout my generation    \n(My generation)                \nTalkin' 'bout my generation    \n(Is my generation baby)        \nTalkin' 'bout my generation    \n(This is my generation)        \nTalkin' 'bout my generation    \n(This is my generation)        \nTalkin' 'bout my generation    \n(This is my generation)        \nTalkin' 'bout my generation    \n(This is my generation)        \nTalkin' 'bout my generation    \n(This is my generation)        \n\n",
     "output_type": "stream"
    }
   ],
   "execution_count": null
  },
  {
   "cell_type": "markdown",
   "source": "Answer to the 1 question:\n\nYeah there are lines like this `3130c68457ca3d0783e5a5beec8965b1ce2b204963fd41209775362f9db531ef`, which are repeating periodically, so this has to be pop song with some catchy phrase.\n\n2. question\nIt was probably padded\n\n3. and 4. done via code above.\n` try to put us d-down`\n\n",
   "metadata": {
    "tags": [],
    "cell_id": "00024-aeb9db99-37e5-4dc5-85f7-6f9621f9a5ed",
    "deepnote_cell_type": "markdown"
   }
  },
  {
   "cell_type": "markdown",
   "source": "## Exercise 9: ECB message crafting (cut and paste 2)\n\n>1. Write a function `welcome(name)` that \n>    - first, concatenates three strings:\n>        - `\"Your name is \"` (13 bytes)\n>        - `name` (the input)\n>        - `\" and you are a user\"` (19 bytes)\n>    - then, encrypts the resulting string with the key `RIDERSONTHESTORM`\n>    - finally, returns the ciphertext\n\n>For questions 2-5, only operate through the function `welcome()`; do\n>not use the key directly. (Pretend you're an outside attacker, and\n>therefore, you don't know the key.)\n\n>2. What is the ciphertext of `welcome(\"Jim\")`? Answer in hex.\n\n>3. Obtain the ciphertext of a block whose plaintext is 16 times the byte 16:\n>   `1010...10`.\n\n>4. Obtain the ciphertext of a block whose plaintext is \"you are an admin\".\n\n>5. Use these blocks (and perhaps other calls to `welcome`) to craft an encrypted\n>   message whose plaintext starts by `\"Your name is \"` and finishes with `\" and you\n>   are an admin\"`. In your report, write down your crafted ciphertext.\n\n>For question 6, you may use the key directly:\n\n>6. Decrypt your encrypted message to make sure it is correct. In your report,\n>   write the decrypted message.\n\n>7. Could you quickly describe a real-world scenario where this could be a\n>   security issue?",
   "metadata": {
    "tags": [],
    "cell_id": "00025-9d8c5b64-83f0-4873-a5de-2f1409d88446",
    "deepnote_cell_type": "markdown"
   }
  },
  {
   "cell_type": "code",
   "metadata": {
    "tags": [],
    "cell_id": "00026-cf481bb2-355d-4816-9f7b-a650c39f8e75",
    "deepnote_to_be_reexecuted": false,
    "source_hash": "ae69f2cf",
    "execution_start": 1637687736161,
    "execution_millis": 7,
    "deepnote_cell_type": "code"
   },
   "source": "def welcome(name):\n    #13 before and 19 after\n    text = \"Your name is \" + name + \" and you are a user\"\n    ret = encrypt_aes_ecb(text, \"RIDERSONTHESTORM\")\n    return ret\n\nanswer = welcome (\"Jim\")\nprint(answer.hex())\n\n#because of pad func. 10..10 is added so just take last 16 bytes\npoint3 = welcome(\"\")\npoint3 = point3[len(point3)-16:]\nprint(point3.hex())\n\npoint4 = welcome(\"   you are an admin\")\npoint4 = point4[16:32]\nprint(point4.hex())\n\npoint5 = welcome(\"David Herel   \")\npoint5 = point5[:32]+point4+point3\nprint(point5.hex())\nprint(decrypt_aes_ecb(point5, \"RIDERSONTHESTORM\"))",
   "outputs": [
    {
     "name": "stdout",
     "text": "d4d7730a2d4255c88dead80a2ad924f2b114fddb898d7ef8abdfefef30d552863f62b0605102e0186402df7666edcec7\n4e9eb1df207c25bebdcfc57385251689\n7edb62ceff6a92e3a59029a06e5e622b\nde24280e189ec5c1e880ca3ef5668ea54b9c6694fdc82189315fe5009c55ec047edb62ceff6a92e3a59029a06e5e622b4e9eb1df207c25bebdcfc57385251689\nYour name is David Herel    and you are an admin\n",
     "output_type": "stream"
    }
   ],
   "execution_count": null
  },
  {
   "cell_type": "markdown",
   "source": "1. and 2. done\nCipther text of welcome(\"Jim\") is `d4d7730a2d4255c88dead80a2ad924f2b114fddb898d7ef8abdfefef30d552863f62b0605102e0186402df7666edcec7`.\n\n3. `4e9eb1df207c25bebdcfc57385251689`\n\n4. `7edb62ceff6a92e3a59029a06e5e622b`\n\n5. `de24280e189ec5c1e880ca3ef5668ea54b9c6694fdc82189315fe5009c55ec047edb62ceff6a92e3a59029a06e5e622b4e9eb1df207c25bebdcfc57385251689`\n\n6. Decrypted message is `Your name is David Herel    and you are an admin\n` and it is correct\n\n7. We can modify any information which was encrypted this way - we could insert ours. \n\n\n",
   "metadata": {
    "tags": [],
    "cell_id": "00027-fa337a51-2383-4c40-8e3b-387e4903b340",
    "deepnote_cell_type": "markdown"
   }
  },
  {
   "cell_type": "markdown",
   "source": "## Exercise 10: ECB decryption (cracking) byte-at-a-time\n\n>In this exercise, you will decrypt the >content of a ciphertext without knowing\n>the key!\n\n>Let `SECRET` be the following >constant: \"this should stay secret\".\n\n>Write a function `hide_secret(x)` that \n\n>  - concatenates two pieces of data:\n>    - `x` (the input, which can >contain non-ASCII characters)\n>    - `SECRET`\n>  - encrypts the result with the key >`COOL T MAGIC KEY`\n>  - returns the ciphertext\n\n>To test your function, make sure >`hide_secret(\"just listen find the >magic key\")`\n>returns the following ciphertext:\n\n>    45a306391112e09639cc44fa4d53c79e\n>    c90162749b6055bbc3d0811c0da6bd9b\n>    df3dccce5ff98e742ffdc33a1c8e84b9\n>    d47e0182d8fa07c9291b25d8dab01199\n\n>Now, perform the next questions by >pretending you don't know the key: only\n>operate through `hide_secret()`.\n\n>Write a function that discovers the >first character of the secret. Here is >how\n>you can proceed:\n\n>1. Call `hide_secret()` with an input >containing fifteen times (16-1) the\n>   character `A`: \"AAAAAAAAAAAAAAA\". >In the first block to be encrypted, >what\n>   will be the last plaintext byte?\n\n>2. Call `hide_secret()` with the >following 16-byte inputs: \"AAA...>AA\\\\x00\",\n>   \"AAA...AA\\\\x01\"...  In other words, >iterate through all possibilities for >the\n>   last byte of the plaintext, and >check the resulting ciphertext against >the\n>   first ciphertext block of question >1 above. If it matches, it means you >have\n>   discovered the first character!\n\n>Now generalize this technique to >obtain all subsequent characters:\n\n>3. Say you know some bytes at the >beginning of the secret. To obtain the >next\n>   byte, decrement the number of A's. >When calling `hide_secret(\"AAA..AA\")` >the\n>   plaintext of the first block will >look like:\n\n><!-- -->\n>\n>    AAA..AAxxxxy\n>           ^^^^----- you know this >already\n>               ^---- crack this byte, >you know how to do it!\n\n>Automate this in a loop. When you run out of A's, realize you can start back at\n>15 and attack the second block (and later, the third, and so on)\n\n>How to find out when you have the complete secret (i.e. the termination\n>condition for your loop):\n\n>  - You could continue cracking new bytes, but they will always have the value 1. Why?\n>  - The length of the response to your initial call `hide_secret(\"AAA..AA\")`\n>    will be exactly `a + s + 1` where `a` is the number of A's (between 0 and 15) and `s` is how many secret bytes >you know so far. Why is this true only\n>    when the secret is complete?\n",
   "metadata": {
    "tags": [],
    "cell_id": "00028-cebb6224-6313-4b97-9876-f0b67a0609db",
    "deepnote_cell_type": "markdown"
   }
  },
  {
   "cell_type": "code",
   "metadata": {
    "tags": [],
    "cell_id": "00029-1a83e433-26e3-4d32-aaad-23a92561c1ce",
    "deepnote_to_be_reexecuted": false,
    "source_hash": "a8cbcdc0",
    "execution_start": 1637690366599,
    "execution_millis": 80,
    "deepnote_output_heights": [
     328.390625,
     611
    ],
    "deepnote_cell_type": "code"
   },
   "source": "def hide_secret(x):\n    text = x + \"this should stay secret\"\n    ret = encrypt_aes_ecb(text, \"COOL T MAGIC KEY\")\n    return ret\nanswer = hide_secret(\"just listen find the >magic key\")\nprint(answer.hex())\n\nimport string\n\ndef find_secret():\n    printable = string.printable    \n    found = False\n    secret = b''\n    part = 1\n    aaa = \"AAAAAAAAAAAAAAA\"\n    while not found:\n        found_counter = 0\n        temp_cip = hide_secret(aaa)\n        temp_cip = temp_cip[:16*part]\n        for i in printable + str(1):\n            b_i = str.encode(i)\n            temp_guess = str.encode(aaa) + secret + b_i\n            #print(\"temp guess\")\n            #print(temp_guess)\n            guess_ret = hide_secret(temp_guess.decode(\"utf-8\"))\n            guess_ret = guess_ret[:16*part]\n            #print(\"guess_ret\")\n            #print(guess_ret)\n            #print(\"temp_cip\")\n            #print(temp_cip)\n            if temp_cip == guess_ret:\n                found_counter +=1\n                if (not found):\n                    secret = secret + b_i\n                    if (len(secret)%16 == 0 and len(secret)!=0):\n                        aaa =\"AAAAAAAAAAAAAAA\" \n                        part +=1\n                        #print(\"secret: \" + str(secret))\n                    else:\n                        aaa = aaa[:len(aaa)-1]\n                        #print(aaa)\n                        #print(\"secret: \" + str(secret))\n        if (found_counter <= 0):\n            found = True\n    return secret\n\nprint(find_secret())\n",
   "outputs": [
    {
     "name": "stdout",
     "text": "45a306391112e09639cc44fa4d53c79ef86f5d44f45cc3f3f0f06e0bc4880847d38e3ebfa8b489d3e2fb3819bcb4786e04d50c322b3bf872c7d37d6f127f3a06\nb'this should stay secret'\n",
     "output_type": "stream"
    }
   ],
   "execution_count": null
  },
  {
   "cell_type": "markdown",
   "source": "That's it I have succesfully decrypted ciphertext without knowing the key.",
   "metadata": {
    "tags": [],
    "cell_id": "00030-6d0d1f6d-60cb-4ee7-a01e-616ad440d30f",
    "deepnote_cell_type": "markdown"
   }
  },
  {
   "cell_type": "markdown",
   "source": "<a style='text-decoration:none;line-height:16px;display:flex;color:#5B5B62;padding:10px;justify-content:end;' href='https://deepnote.com?utm_source=created-in-deepnote-cell&projectId=77d343fe-b669-4e82-8dce-f2d4848ca6cb' target=\"_blank\">\n<img alt='Created in deepnote.com' style='display:inline;max-height:16px;margin:0px;margin-right:7.5px;' src='data:image/svg+xml;base64,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' > </img>\nCreated in <span style='font-weight:600;margin-left:4px;'>Deepnote</span></a>",
   "metadata": {
    "tags": [],
    "created_in_deepnote_cell": true,
    "deepnote_cell_type": "markdown"
   }
  }
 ],
 "nbformat": 4,
 "nbformat_minor": 2,
 "metadata": {
  "orig_nbformat": 2,
  "deepnote": {
   "is_reactive": false
  },
  "deepnote_notebook_id": "9d61a7cd-c26d-48b6-8485-01abc9ffc7a5",
  "deepnote_execution_queue": []
 }
}